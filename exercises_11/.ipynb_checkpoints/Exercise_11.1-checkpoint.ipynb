{
 "cells": [
  {
   "cell_type": "code",
   "execution_count": 1,
   "metadata": {},
   "outputs": [],
   "source": [
    "import numpy as np\n",
    "import matplotlib.pyplot as plt"
   ]
  },
  {
   "cell_type": "code",
   "execution_count": 2,
   "metadata": {},
   "outputs": [],
   "source": [
    "import tensorflow as tf\n",
    "from tensorflow import keras\n",
    "\n",
    "from tensorflow.keras.models import Sequential\n",
    "from tensorflow.keras.layers import Dense, Activation\n",
    "from tensorflow.keras import backend as K\n",
    "from tensorflow.keras.utils import get_custom_objects"
   ]
  },
  {
   "cell_type": "markdown",
   "metadata": {},
   "source": [
    "# Exercise 11.1 #\n",
    "\n",
    "Keras linear regression exploring changing data noise, number of epochs."
   ]
  },
  {
   "cell_type": "code",
   "execution_count": 3,
   "metadata": {},
   "outputs": [],
   "source": [
    "#create model\n",
    "model = tf.keras.Sequential()\n",
    "model.add(Dense(1, input_shape=(1,)))\n",
    "\n",
    "# compile the model choosing optimizer, loss and metrics objects\n",
    "model.compile(optimizer='sgd', loss='mse', metrics=['mse'])"
   ]
  },
  {
   "cell_type": "code",
   "execution_count": 4,
   "metadata": {},
   "outputs": [
    {
     "name": "stdout",
     "output_type": "stream",
     "text": [
      "_________________________________________________________________\n",
      "Layer (type)                 Output Shape              Param #   \n",
      "=================================================================\n",
      "dense (Dense)                (None, 1)                 2         \n",
      "=================================================================\n",
      "Total params: 2\n",
      "Trainable params: 2\n",
      "Non-trainable params: 0\n",
      "_________________________________________________________________\n"
     ]
    }
   ],
   "source": [
    "# get a summary of our composed model\n",
    "model.summary()"
   ]
  },
  {
   "cell_type": "code",
   "execution_count": 5,
   "metadata": {},
   "outputs": [],
   "source": [
    "# target parameters of f(x) = m*x + b\n",
    "m = 4 # slope\n",
    "q = 1 # intersect\n",
    "\n",
    "# generate training inputs\n",
    "np.random.seed(0)\n",
    "x_train = np.random.uniform(-1, 1, 1000)\n",
    "x_valid = np.random.uniform(-1, 1, 100)\n",
    "x_valid.sort()\n",
    "y_target = m * x_valid + q # ideal (target) linear function\n",
    "\n",
    "sigma = 0 # noise standard deviation, for the moment it is absent\n",
    "y_train = np.random.normal(m * x_train + q, sigma) # actual measures from which we want to guess regression parameters\n",
    "y_valid = np.random.normal(m * x_valid + q, sigma)"
   ]
  },
  {
   "cell_type": "code",
   "execution_count": 6,
   "metadata": {},
   "outputs": [
    {
     "data": {
      "image/png": "[encoded data removed]",
      "text/plain": [
       "<Figure size 432x288 with 1 Axes>"
      ]
     },
     "metadata": {
      "needs_background": "light"
     },
     "output_type": "display_data"
    }
   ],
   "source": [
    "# plot training and target dataset\n",
    "\n",
    "plt.plot(x_valid, y_target)\n",
    "plt.scatter(x_valid, y_valid, color='r')\n",
    "plt.grid(True); plt.show()"
   ]
  },
  {
   "cell_type": "code",
   "execution_count": 7,
   "metadata": {},
   "outputs": [
    {
     "name": "stdout",
     "output_type": "stream",
     "text": [
      "Train on 1000 samples, validate on 100 samples\n",
      "Epoch 1/30\n",
      "1000/1000 [==============================] - 0s 281us/step - loss: 6.3811 - mean_squared_error: 6.3811 - val_loss: 5.4682 - val_mean_squared_error: 5.4682\n",
      "Epoch 2/30\n",
      "1000/1000 [==============================] - 0s 51us/step - loss: 3.9661 - mean_squared_error: 3.9661 - val_loss: 3.4837 - val_mean_squared_error: 3.4837\n",
      "Epoch 3/30\n",
      "1000/1000 [==============================] - 0s 54us/step - loss: 2.5210 - mean_squared_error: 2.5210 - val_loss: 2.2408 - val_mean_squared_error: 2.2408\n",
      "Epoch 4/30\n",
      "1000/1000 [==============================] - 0s 50us/step - loss: 1.6169 - mean_squared_error: 1.6169 - val_loss: 1.4579 - val_mean_squared_error: 1.4579\n",
      "Epoch 5/30\n",
      "1000/1000 [==============================] - 0s 53us/step - loss: 1.0501 - mean_squared_error: 1.0501 - val_loss: 0.9476 - val_mean_squared_error: 0.9476\n",
      "Epoch 6/30\n",
      "1000/1000 [==============================] - 0s 50us/step - loss: 0.6815 - mean_squared_error: 0.6815 - val_loss: 0.6182 - val_mean_squared_error: 0.6182\n",
      "Epoch 7/30\n",
      "1000/1000 [==============================] - 0s 43us/step - loss: 0.4440 - mean_squared_error: 0.4440 - val_loss: 0.4005 - val_mean_squared_error: 0.4005\n",
      "Epoch 8/30\n",
      "1000/1000 [==============================] - 0s 48us/step - loss: 0.2876 - mean_squared_error: 0.2876 - val_loss: 0.2601 - val_mean_squared_error: 0.2601\n",
      "Epoch 9/30\n",
      "1000/1000 [==============================] - 0s 47us/step - loss: 0.1868 - mean_squared_error: 0.1868 - val_loss: 0.1685 - val_mean_squared_error: 0.1685\n",
      "Epoch 10/30\n",
      "1000/1000 [==============================] - 0s 48us/step - loss: 0.1209 - mean_squared_error: 0.1209 - val_loss: 0.1093 - val_mean_squared_error: 0.1093\n",
      "Epoch 11/30\n",
      "1000/1000 [==============================] - 0s 47us/step - loss: 0.0784 - mean_squared_error: 0.0784 - val_loss: 0.0707 - val_mean_squared_error: 0.0707\n",
      "Epoch 12/30\n",
      "1000/1000 [==============================] - 0s 51us/step - loss: 0.0507 - mean_squared_error: 0.0507 - val_loss: 0.0456 - val_mean_squared_error: 0.0456\n",
      "Epoch 13/30\n",
      "1000/1000 [==============================] - 0s 47us/step - loss: 0.0328 - mean_squared_error: 0.0328 - val_loss: 0.0296 - val_mean_squared_error: 0.0296\n",
      "Epoch 14/30\n",
      "1000/1000 [==============================] - 0s 48us/step - loss: 0.0212 - mean_squared_error: 0.0212 - val_loss: 0.0190 - val_mean_squared_error: 0.0190\n",
      "Epoch 15/30\n",
      "1000/1000 [==============================] - 0s 60us/step - loss: 0.0136 - mean_squared_error: 0.0136 - val_loss: 0.0123 - val_mean_squared_error: 0.0123\n",
      "Epoch 16/30\n",
      "1000/1000 [==============================] - 0s 48us/step - loss: 0.0088 - mean_squared_error: 0.0088 - val_loss: 0.0079 - val_mean_squared_error: 0.0079\n",
      "Epoch 17/30\n",
      "1000/1000 [==============================] - 0s 48us/step - loss: 0.0057 - mean_squared_error: 0.0057 - val_loss: 0.0051 - val_mean_squared_error: 0.0051\n",
      "Epoch 18/30\n",
      "1000/1000 [==============================] - 0s 49us/step - loss: 0.0037 - mean_squared_error: 0.0037 - val_loss: 0.0033 - val_mean_squared_error: 0.0033\n",
      "Epoch 19/30\n",
      "1000/1000 [==============================] - 0s 48us/step - loss: 0.0024 - mean_squared_error: 0.0024 - val_loss: 0.0021 - val_mean_squared_error: 0.0021\n",
      "Epoch 20/30\n",
      "1000/1000 [==============================] - 0s 45us/step - loss: 0.0015 - mean_squared_error: 0.0015 - val_loss: 0.0014 - val_mean_squared_error: 0.0014\n",
      "Epoch 21/30\n",
      "1000/1000 [==============================] - 0s 45us/step - loss: 9.9150e-04 - mean_squared_error: 9.9150e-04 - val_loss: 8.9788e-04 - val_mean_squared_error: 8.9788e-04\n",
      "Epoch 22/30\n",
      "1000/1000 [==============================] - 0s 46us/step - loss: 6.4342e-04 - mean_squared_error: 6.4342e-04 - val_loss: 5.8342e-04 - val_mean_squared_error: 5.8342e-04\n",
      "Epoch 23/30\n",
      "1000/1000 [==============================] - 0s 47us/step - loss: 4.1798e-04 - mean_squared_error: 4.1798e-04 - val_loss: 3.7894e-04 - val_mean_squared_error: 3.7894e-04\n",
      "Epoch 24/30\n",
      "1000/1000 [==============================] - 0s 45us/step - loss: 2.7135e-04 - mean_squared_error: 2.7135e-04 - val_loss: 2.4550e-04 - val_mean_squared_error: 2.4550e-04\n",
      "Epoch 25/30\n",
      "1000/1000 [==============================] - 0s 46us/step - loss: 1.7591e-04 - mean_squared_error: 1.7591e-04 - val_loss: 1.5826e-04 - val_mean_squared_error: 1.5826e-04\n",
      "Epoch 26/30\n",
      "1000/1000 [==============================] - 0s 46us/step - loss: 1.1337e-04 - mean_squared_error: 1.1337e-04 - val_loss: 1.0264e-04 - val_mean_squared_error: 1.0264e-04\n",
      "Epoch 27/30\n",
      "1000/1000 [==============================] - 0s 46us/step - loss: 7.3528e-05 - mean_squared_error: 7.3528e-05 - val_loss: 6.6511e-05 - val_mean_squared_error: 6.6511e-05\n",
      "Epoch 28/30\n",
      "1000/1000 [==============================] - 0s 46us/step - loss: 4.7638e-05 - mean_squared_error: 4.7638e-05 - val_loss: 4.3207e-05 - val_mean_squared_error: 4.3207e-05\n",
      "Epoch 29/30\n",
      "1000/1000 [==============================] - 0s 41us/step - loss: 3.0953e-05 - mean_squared_error: 3.0953e-05 - val_loss: 2.7881e-05 - val_mean_squared_error: 2.7881e-05\n",
      "Epoch 30/30\n",
      "1000/1000 [==============================] - 0s 44us/step - loss: 1.9955e-05 - mean_squared_error: 1.9955e-05 - val_loss: 1.8112e-05 - val_mean_squared_error: 1.8112e-05\n"
     ]
    }
   ],
   "source": [
    "# fit the model using training dataset\n",
    "history = model.fit(x=x_train, y=y_train, \n",
    "          batch_size=32, epochs=30,\n",
    "          shuffle=True, # a good idea is to shuffle input before at each epoch\n",
    "          validation_data=(x_valid, y_valid))"
   ]
  },
  {
   "cell_type": "code",
   "execution_count": 8,
   "metadata": {},
   "outputs": [
    {
     "data": {
      "text/plain": [
       "[array([[3.9931645]], dtype=float32), array([0.99997526], dtype=float32)]"
      ]
     },
     "execution_count": 8,
     "metadata": {},
     "output_type": "execute_result"
    }
   ],
   "source": [
    "# return weights\n",
    "model.get_weights()"
   ]
  },
  {
   "cell_type": "code",
   "execution_count": 9,
   "metadata": {},
   "outputs": [
    {
     "name": "stdout",
     "output_type": "stream",
     "text": [
      "100/100 [==============================] - 0s 70us/step\n",
      "\n",
      "Test loss: 1.811168927815743e-05\n"
     ]
    }
   ],
   "source": [
    "# evaluate model with the exact curve\n",
    "score = model.evaluate(x_valid, y_target, batch_size=32, verbose=1)\n",
    "\n",
    "# print performance\n",
    "print()\n",
    "print('Test loss:', score[0])"
   ]
  },
  {
   "cell_type": "code",
   "execution_count": 10,
   "metadata": {},
   "outputs": [
    {
     "data": {
      "image/png": "[encoded data removed]",
      "text/plain": [
       "<Figure size 432x288 with 1 Axes>"
      ]
     },
     "metadata": {
      "needs_background": "light"
     },
     "output_type": "display_data"
    }
   ],
   "source": [
    "# look into training history\n",
    "# Plot training & validation loss values\n",
    "plt.plot(history.history['loss'])\n",
    "plt.plot(history.history['val_loss'])\n",
    "plt.title('Model loss')\n",
    "plt.ylabel('Loss')\n",
    "plt.xlabel('Epoch')\n",
    "plt.legend(['Train', 'Test'], loc='best')\n",
    "plt.show()"
   ]
  },
  {
   "cell_type": "code",
   "execution_count": 11,
   "metadata": {},
   "outputs": [
    {
     "data": {
      "image/png": "[encoded data removed]",
      "text/plain": [
       "<Figure size 432x288 with 1 Axes>"
      ]
     },
     "metadata": {
      "needs_background": "light"
     },
     "output_type": "display_data"
    }
   ],
   "source": [
    "x_predicted = np.random.uniform(-3, 3, 100)\n",
    "y_predicted = model.predict(x_predicted)\n",
    "plt.scatter(x_predicted, y_predicted,color='r')\n",
    "plt.plot(x_valid, y_target)\n",
    "plt.grid(True)\n",
    "plt.show()"
   ]
  },
  {
   "cell_type": "markdown",
   "metadata": {},
   "source": [
    "## Comments ##\n",
    "\n",
    "- 100 training samples and 10 validation samples: no matter the value of $\\sigma$, the model needs at least 100 epochs to achieve a decent result\n",
    "- 1000 training samples and 100 validation samples: with 30 training epochs the model finds the correct parameters, both with $\\sigma=0$ and $\\sigma=1$"
   ]
  }
 ],
 "metadata": {
  "kernelspec": {
   "display_name": "Python 3",
   "language": "python",
   "name": "python3"
  },
  "language_info": {
   "codemirror_mode": {
    "name": "ipython",
    "version": 3
   },
   "file_extension": ".py",
   "mimetype": "text/x-python",
   "name": "python",
   "nbconvert_exporter": "python",
   "pygments_lexer": "ipython3",
   "version": "3.6.8"
  }
 },
 "nbformat": 4,
 "nbformat_minor": 2
}

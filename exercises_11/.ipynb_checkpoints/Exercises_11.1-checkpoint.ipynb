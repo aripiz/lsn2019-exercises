{
 "cells": [
  {
   "cell_type": "code",
   "execution_count": 1,
   "metadata": {},
   "outputs": [],
   "source": [
    "import numpy as np\n",
    "import matplotlib.pyplot as plt"
   ]
  },
  {
   "cell_type": "code",
   "execution_count": 2,
   "metadata": {},
   "outputs": [],
   "source": [
    "import tensorflow as tf\n",
    "from tensorflow import keras\n",
    "\n",
    "from tensorflow.keras.models import Sequential\n",
    "from tensorflow.keras.layers import Dense, Activation\n",
    "from tensorflow.keras import backend as K\n",
    "from tensorflow.keras.utils import get_custom_objects"
   ]
  },
  {
   "cell_type": "markdown",
   "metadata": {},
   "source": [
    "# Exercise 1 #"
   ]
  },
  {
   "cell_type": "code",
   "execution_count": 3,
   "metadata": {},
   "outputs": [],
   "source": [
    "#create model\n",
    "model = tf.keras.Sequential()\n",
    "model.add(Dense(1, input_shape=(1,)))\n",
    "\n",
    "\n",
    "# compile the model choosing optimizer, loss and metrics objects\n",
    "model.compile(optimizer='sgd', loss='mse', metrics=['mse'])"
   ]
  },
  {
   "cell_type": "code",
   "execution_count": 4,
   "metadata": {},
   "outputs": [
    {
     "name": "stdout",
     "output_type": "stream",
     "text": [
      "_________________________________________________________________\n",
      "Layer (type)                 Output Shape              Param #   \n",
      "=================================================================\n",
      "dense (Dense)                (None, 1)                 2         \n",
      "=================================================================\n",
      "Total params: 2\n",
      "Trainable params: 2\n",
      "Non-trainable params: 0\n",
      "_________________________________________________________________\n"
     ]
    }
   ],
   "source": [
    "# get a summary of our composed model\n",
    "model.summary()"
   ]
  },
  {
   "cell_type": "code",
   "execution_count": 5,
   "metadata": {},
   "outputs": [],
   "source": [
    "# target parameters of f(x) = m*x + b\n",
    "m = 4 # slope\n",
    "q = 1 # intersect\n",
    "\n",
    "# generate training inputs\n",
    "np.random.seed(0)\n",
    "x_train = np.random.uniform(-1, 1, 1000)\n",
    "x_valid = np.random.uniform(-1, 1, 100)\n",
    "x_valid.sort()\n",
    "y_target = m * x_valid + q # ideal (target) linear function\n",
    "\n",
    "sigma = 1 # noise standard deviation, for the moment it is absent\n",
    "y_train = np.random.normal(m * x_train + q, sigma) # actual measures from which we want to guess regression parameters\n",
    "y_valid = np.random.normal(m * x_valid + q, sigma)"
   ]
  },
  {
   "cell_type": "code",
   "execution_count": 6,
   "metadata": {},
   "outputs": [
    {
     "data": {
      "image/png": "[encoded data removed]",
      "text/plain": [
       "<Figure size 432x288 with 1 Axes>"
      ]
     },
     "metadata": {
      "needs_background": "light"
     },
     "output_type": "display_data"
    }
   ],
   "source": [
    "# plot training and target dataset\n",
    "\n",
    "plt.plot(x_valid, y_target)\n",
    "plt.scatter(x_valid, y_valid, color='r')\n",
    "plt.grid(True); plt.show()"
   ]
  },
  {
   "cell_type": "code",
   "execution_count": 7,
   "metadata": {},
   "outputs": [
    {
     "name": "stdout",
     "output_type": "stream",
     "text": [
      "Train on 1000 samples, validate on 100 samples\n",
      "Epoch 1/30\n",
      "1000/1000 [==============================] - 0s 182us/step - loss: 6.6542 - mean_squared_error: 6.6542 - val_loss: 6.2418 - val_mean_squared_error: 6.2418\n",
      "Epoch 2/30\n",
      "1000/1000 [==============================] - 0s 59us/step - loss: 4.4605 - mean_squared_error: 4.4605 - val_loss: 4.3598 - val_mean_squared_error: 4.3598\n",
      "Epoch 3/30\n",
      "1000/1000 [==============================] - 0s 62us/step - loss: 3.1751 - mean_squared_error: 3.1751 - val_loss: 3.1591 - val_mean_squared_error: 3.1591\n",
      "Epoch 4/30\n",
      "1000/1000 [==============================] - 0s 64us/step - loss: 2.3694 - mean_squared_error: 2.3694 - val_loss: 2.4006 - val_mean_squared_error: 2.4006\n",
      "Epoch 5/30\n",
      "1000/1000 [==============================] - 0s 67us/step - loss: 1.8727 - mean_squared_error: 1.8727 - val_loss: 1.8949 - val_mean_squared_error: 1.8949\n",
      "Epoch 6/30\n",
      "1000/1000 [==============================] - 0s 50us/step - loss: 1.5486 - mean_squared_error: 1.5486 - val_loss: 1.5598 - val_mean_squared_error: 1.5598\n",
      "Epoch 7/30\n",
      "1000/1000 [==============================] - 0s 43us/step - loss: 1.3407 - mean_squared_error: 1.3407 - val_loss: 1.3304 - val_mean_squared_error: 1.3304\n",
      "Epoch 8/30\n",
      "1000/1000 [==============================] - 0s 45us/step - loss: 1.2026 - mean_squared_error: 1.2026 - val_loss: 1.1747 - val_mean_squared_error: 1.1747\n",
      "Epoch 9/30\n",
      "1000/1000 [==============================] - 0s 42us/step - loss: 1.1126 - mean_squared_error: 1.1126 - val_loss: 1.0687 - val_mean_squared_error: 1.0687\n",
      "Epoch 10/30\n",
      "1000/1000 [==============================] - 0s 41us/step - loss: 1.0540 - mean_squared_error: 1.0540 - val_loss: 0.9966 - val_mean_squared_error: 0.9966\n",
      "Epoch 11/30\n",
      "1000/1000 [==============================] - 0s 43us/step - loss: 1.0163 - mean_squared_error: 1.0163 - val_loss: 0.9458 - val_mean_squared_error: 0.9458\n",
      "Epoch 12/30\n",
      "1000/1000 [==============================] - 0s 40us/step - loss: 0.9917 - mean_squared_error: 0.9917 - val_loss: 0.9109 - val_mean_squared_error: 0.9109\n",
      "Epoch 13/30\n",
      "1000/1000 [==============================] - 0s 43us/step - loss: 0.9758 - mean_squared_error: 0.9758 - val_loss: 0.8872 - val_mean_squared_error: 0.8872\n",
      "Epoch 14/30\n",
      "1000/1000 [==============================] - 0s 42us/step - loss: 0.9663 - mean_squared_error: 0.9663 - val_loss: 0.8715 - val_mean_squared_error: 0.8715\n",
      "Epoch 15/30\n",
      "1000/1000 [==============================] - 0s 43us/step - loss: 0.9603 - mean_squared_error: 0.9603 - val_loss: 0.8580 - val_mean_squared_error: 0.8580\n",
      "Epoch 16/30\n",
      "1000/1000 [==============================] - 0s 44us/step - loss: 0.9559 - mean_squared_error: 0.9559 - val_loss: 0.8494 - val_mean_squared_error: 0.8494\n",
      "Epoch 17/30\n",
      "1000/1000 [==============================] - 0s 41us/step - loss: 0.9535 - mean_squared_error: 0.9535 - val_loss: 0.8434 - val_mean_squared_error: 0.8434\n",
      "Epoch 18/30\n",
      "1000/1000 [==============================] - 0s 40us/step - loss: 0.9516 - mean_squared_error: 0.9516 - val_loss: 0.8360 - val_mean_squared_error: 0.8360\n",
      "Epoch 19/30\n",
      "1000/1000 [==============================] - 0s 43us/step - loss: 0.9504 - mean_squared_error: 0.9504 - val_loss: 0.8330 - val_mean_squared_error: 0.8330\n",
      "Epoch 20/30\n",
      "1000/1000 [==============================] - 0s 42us/step - loss: 0.9497 - mean_squared_error: 0.9497 - val_loss: 0.8307 - val_mean_squared_error: 0.8307\n",
      "Epoch 21/30\n",
      "1000/1000 [==============================] - 0s 42us/step - loss: 0.9492 - mean_squared_error: 0.9492 - val_loss: 0.8286 - val_mean_squared_error: 0.8286\n",
      "Epoch 22/30\n",
      "1000/1000 [==============================] - 0s 41us/step - loss: 0.9489 - mean_squared_error: 0.9489 - val_loss: 0.8269 - val_mean_squared_error: 0.8269\n",
      "Epoch 23/30\n",
      "1000/1000 [==============================] - 0s 42us/step - loss: 0.9486 - mean_squared_error: 0.9486 - val_loss: 0.8274 - val_mean_squared_error: 0.8274\n",
      "Epoch 24/30\n",
      "1000/1000 [==============================] - 0s 42us/step - loss: 0.9489 - mean_squared_error: 0.9489 - val_loss: 0.8256 - val_mean_squared_error: 0.8256\n",
      "Epoch 25/30\n",
      "1000/1000 [==============================] - 0s 42us/step - loss: 0.9483 - mean_squared_error: 0.9483 - val_loss: 0.8240 - val_mean_squared_error: 0.8240\n",
      "Epoch 26/30\n",
      "1000/1000 [==============================] - 0s 40us/step - loss: 0.9485 - mean_squared_error: 0.9485 - val_loss: 0.8227 - val_mean_squared_error: 0.8227\n",
      "Epoch 27/30\n",
      "1000/1000 [==============================] - 0s 44us/step - loss: 0.9484 - mean_squared_error: 0.9484 - val_loss: 0.8228 - val_mean_squared_error: 0.8228\n",
      "Epoch 28/30\n",
      "1000/1000 [==============================] - 0s 51us/step - loss: 0.9485 - mean_squared_error: 0.9485 - val_loss: 0.8219 - val_mean_squared_error: 0.8219\n",
      "Epoch 29/30\n",
      "1000/1000 [==============================] - 0s 44us/step - loss: 0.9485 - mean_squared_error: 0.9485 - val_loss: 0.8213 - val_mean_squared_error: 0.8213\n",
      "Epoch 30/30\n",
      "1000/1000 [==============================] - 0s 43us/step - loss: 0.9484 - mean_squared_error: 0.9484 - val_loss: 0.8210 - val_mean_squared_error: 0.8210\n"
     ]
    }
   ],
   "source": [
    "# fit the model using training dataset\n",
    "# over 10 epochs of 32 batch size each\n",
    "# report training progress against validation data\n",
    "history = model.fit(x=x_train, y=y_train, \n",
    "          batch_size=32, epochs=30,\n",
    "          shuffle=True, # a good idea is to shuffle input before at each epoch\n",
    "          validation_data=(x_valid, y_valid))"
   ]
  },
  {
   "cell_type": "code",
   "execution_count": 8,
   "metadata": {},
   "outputs": [
    {
     "data": {
      "text/plain": [
       "[array([[4.0074477]], dtype=float32), array([1.0141928], dtype=float32)]"
      ]
     },
     "execution_count": 8,
     "metadata": {},
     "output_type": "execute_result"
    }
   ],
   "source": [
    "# return weights\n",
    "model.get_weights()"
   ]
  },
  {
   "cell_type": "code",
   "execution_count": 18,
   "metadata": {},
   "outputs": [
    {
     "name": "stdout",
     "output_type": "stream",
     "text": [
      "100/100 [==============================] - 0s 54us/step\n",
      "\n",
      "Test loss: 0.00021469745319336654\n"
     ]
    }
   ],
   "source": [
    "# evaluate model with the exact curve\n",
    "score = model.evaluate(x_valid, y_target, batch_size=32, verbose=1)\n",
    "\n",
    "# print performance\n",
    "print()\n",
    "print('Test loss:', score[0])\n"
   ]
  },
  {
   "cell_type": "code",
   "execution_count": 10,
   "metadata": {},
   "outputs": [
    {
     "data": {
      "image/png": "[encoded data removed]",
      "text/plain": [
       "<Figure size 432x288 with 1 Axes>"
      ]
     },
     "metadata": {
      "needs_background": "light"
     },
     "output_type": "display_data"
    }
   ],
   "source": [
    "# look into training history\n",
    "# Plot training & validation loss values\n",
    "plt.plot(history.history['loss'])\n",
    "plt.plot(history.history['val_loss'])\n",
    "plt.title('Model loss')\n",
    "plt.ylabel('Loss')\n",
    "plt.xlabel('Epoch')\n",
    "plt.legend(['Train', 'Test'], loc='best')\n",
    "plt.show()"
   ]
  },
  {
   "cell_type": "code",
   "execution_count": 11,
   "metadata": {},
   "outputs": [
    {
     "data": {
      "image/png": "[encoded data removed]",
      "text/plain": [
       "<Figure size 432x288 with 1 Axes>"
      ]
     },
     "metadata": {
      "needs_background": "light"
     },
     "output_type": "display_data"
    }
   ],
   "source": [
    "x_predicted = np.random.uniform(-3, 3, 100)\n",
    "y_predicted = model.predict(x_predicted)\n",
    "plt.scatter(x_predicted, y_predicted,color='r')\n",
    "plt.plot(x_valid, y_target)\n",
    "plt.grid(True)\n",
    "plt.show()"
   ]
  },
  {
   "cell_type": "code",
   "execution_count": null,
   "metadata": {},
   "outputs": [],
   "source": []
  }
 ],
 "metadata": {
  "kernelspec": {
   "display_name": "Python 3",
   "language": "python",
   "name": "python3"
  },
  "language_info": {
   "codemirror_mode": {
    "name": "ipython",
    "version": 3
   },
   "file_extension": ".py",
   "mimetype": "text/x-python",
   "name": "python",
   "nbconvert_exporter": "python",
   "pygments_lexer": "ipython3",
   "version": "3.6.8"
  }
 },
 "nbformat": 4,
 "nbformat_minor": 2
}
